{
  "cells": [
    {
      "cell_type": "markdown",
      "source": [
        "# Module 2: Control Flow Assignments\n",
        "## Lesson 2.1: Conditional Statements"
      ],
      "metadata": {
        "id": "t_EDGnqdYJSX"
      },
      "id": "t_EDGnqdYJSX"
    },
    {
      "cell_type": "markdown",
      "source": [
        "### Assignment 1: Simple if Statement\n",
        "\n",
        "Write a program that asks the user to input a number and prints whether the number is positive."
      ],
      "metadata": {
        "id": "nc4uyzeOX_Ua"
      },
      "id": "nc4uyzeOX_Ua"
    },
    {
      "cell_type": "code",
      "source": [
        "Num = int(input(\"Enter Any Number: \"))\n",
        "if Num > 0:\n",
        "  print(\"Positive Number\")"
      ],
      "metadata": {
        "id": "1f71SE04YAzG",
        "colab": {
          "base_uri": "https://localhost:8080/"
        },
        "outputId": "39e74945-0d38-4821-d17d-9b0efee289f7"
      },
      "id": "1f71SE04YAzG",
      "execution_count": 1,
      "outputs": [
        {
          "output_type": "stream",
          "name": "stdout",
          "text": [
            "Enter Any Number: 5\n",
            "Positive Number\n"
          ]
        }
      ]
    },
    {
      "cell_type": "markdown",
      "source": [
        "### Assignment 2: if-else Statement\n",
        "\n",
        "Write a program that asks the user to input a number and prints whether the number is positive or negative."
      ],
      "metadata": {
        "id": "6MIuZhEAYNTS"
      },
      "id": "6MIuZhEAYNTS"
    },
    {
      "cell_type": "code",
      "source": [
        "Num = int(input(\"Enter Any Number: \"))\n",
        "if Num < 0:\n",
        "  print(\"Negative number\")\n",
        "else:\n",
        "  print(\"Positive Number\")"
      ],
      "metadata": {
        "id": "mu870IIRYRSu",
        "colab": {
          "base_uri": "https://localhost:8080/"
        },
        "outputId": "354d42a1-8fbf-4e5d-ceaa-c3e82f86d5da"
      },
      "id": "mu870IIRYRSu",
      "execution_count": 2,
      "outputs": [
        {
          "output_type": "stream",
          "name": "stdout",
          "text": [
            "Enter Any Number: -1\n",
            "Negative number\n"
          ]
        }
      ]
    },
    {
      "cell_type": "markdown",
      "source": [
        "### Assignment 3: if-elif-else Statement\n",
        "\n",
        "Write a program that asks the user to input a number and prints whether the number is positive, negative, or zero"
      ],
      "metadata": {
        "id": "2AXLJTMKP2gS"
      },
      "id": "2AXLJTMKP2gS"
    },
    {
      "cell_type": "code",
      "source": [
        "Num = int(input(\"Enter Any Number: \"))\n",
        "if Num < 0:\n",
        "  print(\"Negative number\")\n",
        "elif Num > 0:\n",
        "  print(\"Positive Number\")\n",
        "else:\n",
        "  print(\"Zero\")"
      ],
      "metadata": {
        "colab": {
          "base_uri": "https://localhost:8080/"
        },
        "id": "lRzIm8PYQmTl",
        "outputId": "5547f4d5-5afe-4a87-b83e-6b54a3c5324c"
      },
      "id": "lRzIm8PYQmTl",
      "execution_count": 3,
      "outputs": [
        {
          "output_type": "stream",
          "name": "stdout",
          "text": [
            "Enter Any Number: 0\n",
            "Zero\n"
          ]
        }
      ]
    },
    {
      "cell_type": "markdown",
      "source": [
        "### Assignment 4: Nested if Statement\n",
        "\n",
        "Write a program that asks the user to input a number and prints whether the number is positive and even, positive and odd, or negative.\n"
      ],
      "metadata": {
        "id": "nvogW17lRd8x"
      },
      "id": "nvogW17lRd8x"
    },
    {
      "cell_type": "code",
      "source": [
        "Num = int(input(\"Enter a Number: \"))\n",
        "\n",
        "if Num > 0:\n",
        "    if Num % 2 == 0:\n",
        "        print(\"The number is positive and even.\")\n",
        "    else:\n",
        "        print(\"The number is positive and odd.\")\n",
        "elif Num < 0:\n",
        "    print(\"The number is negative.\")\n",
        "else:\n",
        "    print(\"The number is zero.\")\n"
      ],
      "metadata": {
        "colab": {
          "base_uri": "https://localhost:8080/"
        },
        "id": "S2vvBOdPRmGU",
        "outputId": "b79dbb00-e392-442a-cf83-b125f100d213"
      },
      "id": "S2vvBOdPRmGU",
      "execution_count": 4,
      "outputs": [
        {
          "output_type": "stream",
          "name": "stdout",
          "text": [
            "Enter a Number: 2\n",
            "The number is positive and even.\n"
          ]
        }
      ]
    },
    {
      "cell_type": "markdown",
      "source": [
        "## Lesson 2.2: Loops\n",
        "### Assignment 5: for Loop\n",
        "\n",
        "Write a program that prints all the numbers from 1 to 10 using a for loop."
      ],
      "metadata": {
        "id": "OQpraDIZSQ7-"
      },
      "id": "OQpraDIZSQ7-"
    },
    {
      "cell_type": "code",
      "source": [
        "for num in range(1,11):\n",
        "    print(num)"
      ],
      "metadata": {
        "colab": {
          "base_uri": "https://localhost:8080/"
        },
        "id": "j6NeyxX6SQSd",
        "outputId": "69ac562f-7a81-4b2c-f75f-46e03c84d5b6"
      },
      "id": "j6NeyxX6SQSd",
      "execution_count": 6,
      "outputs": [
        {
          "output_type": "stream",
          "name": "stdout",
          "text": [
            "1\n",
            "2\n",
            "3\n",
            "4\n",
            "5\n",
            "6\n",
            "7\n",
            "8\n",
            "9\n",
            "10\n"
          ]
        }
      ]
    },
    {
      "cell_type": "markdown",
      "source": [
        "### Assignment 6: while Loop\n",
        "\n",
        "Write a program that prints all the numbers from 1 to 10 using a while loop."
      ],
      "metadata": {
        "id": "dPX8vB19SYTG"
      },
      "id": "dPX8vB19SYTG"
    },
    {
      "cell_type": "code",
      "source": [
        "num = 1\n",
        "while num < 11:\n",
        "  print(num)\n",
        "  num += 1\n"
      ],
      "metadata": {
        "colab": {
          "base_uri": "https://localhost:8080/"
        },
        "id": "jGqSkXvoSe5L",
        "outputId": "6dd2e256-eb87-41c9-b880-e00ecd900415"
      },
      "id": "jGqSkXvoSe5L",
      "execution_count": 7,
      "outputs": [
        {
          "output_type": "stream",
          "name": "stdout",
          "text": [
            "1\n",
            "2\n",
            "3\n",
            "4\n",
            "5\n",
            "6\n",
            "7\n",
            "8\n",
            "9\n",
            "10\n"
          ]
        }
      ]
    },
    {
      "cell_type": "markdown",
      "source": [
        "### Assignment 7: Nested Loops\n",
        "\n",
        "Write a program that prints a 5x5 grid of asterisks (*) using nested loops."
      ],
      "metadata": {
        "id": "PSPx6221Sj60"
      },
      "id": "PSPx6221Sj60"
    },
    {
      "cell_type": "code",
      "source": [
        "for i in range(5):\n",
        "    for j in range(5):\n",
        "        print(\"*\", end=\"\")\n",
        "    print()"
      ],
      "metadata": {
        "colab": {
          "base_uri": "https://localhost:8080/"
        },
        "id": "fXbninW6SlgL",
        "outputId": "07487424-df3e-4b67-c713-d46ca0ad203c"
      },
      "id": "fXbninW6SlgL",
      "execution_count": null,
      "outputs": [
        {
          "output_type": "stream",
          "name": "stdout",
          "text": [
            "*****\n",
            "*****\n",
            "*****\n",
            "*****\n",
            "*****\n"
          ]
        }
      ]
    },
    {
      "cell_type": "markdown",
      "source": [
        "### Assignment 8: break Statement\n",
        "\n",
        "Write a program that asks the user to input numbers until they input 0. The program should print the sum of all the input numbers."
      ],
      "metadata": {
        "id": "Cgnz9JKhSuF1"
      },
      "id": "Cgnz9JKhSuF1"
    },
    {
      "cell_type": "code",
      "source": [
        "sum = 0\n",
        "while True:\n",
        "    Num = int(input(\"Enter a number: \"))\n",
        "    if Num == 0:\n",
        "        break\n",
        "    sum += Num\n",
        "print(\"The sum is:\", Num)"
      ],
      "metadata": {
        "colab": {
          "base_uri": "https://localhost:8080/"
        },
        "id": "gJdcVl7MSxro",
        "outputId": "aa62af53-a143-4329-a52c-47d564806b28"
      },
      "id": "gJdcVl7MSxro",
      "execution_count": 10,
      "outputs": [
        {
          "output_type": "stream",
          "name": "stdout",
          "text": [
            "Enter a number: 10\n",
            "Enter a number: 10\n",
            "Enter a number: 0\n",
            "The sum is: 0\n"
          ]
        }
      ]
    },
    {
      "cell_type": "markdown",
      "source": [
        "### Assignment 9: continue Statement\n",
        "\n",
        "Write a program that prints all the numbers from 1 to 10 except 5 using a for loop and continue statement.\n"
      ],
      "metadata": {
        "id": "Us5UaSSVS7Ic"
      },
      "id": "Us5UaSSVS7Ic"
    },
    {
      "cell_type": "code",
      "source": [
        "for num in range(1,11):\n",
        "    if num == 5:\n",
        "      continue\n",
        "    print(num)"
      ],
      "metadata": {
        "colab": {
          "base_uri": "https://localhost:8080/"
        },
        "id": "OwsSRskWS9q7",
        "outputId": "166fa8dc-4847-4dd7-f878-62c0c23179c1"
      },
      "id": "OwsSRskWS9q7",
      "execution_count": 12,
      "outputs": [
        {
          "output_type": "stream",
          "name": "stdout",
          "text": [
            "1\n",
            "2\n",
            "3\n",
            "4\n",
            "6\n",
            "7\n",
            "8\n",
            "9\n",
            "10\n"
          ]
        }
      ]
    },
    {
      "cell_type": "markdown",
      "source": [
        "### Assignment 10: pass Statement\n",
        "\n",
        "Write a program that defines an empty function using the pass statement."
      ],
      "metadata": {
        "id": "WYaAmzCMTCAH"
      },
      "id": "WYaAmzCMTCAH"
    },
    {
      "cell_type": "code",
      "source": [
        "def empty_function():\n",
        "    pass\n"
      ],
      "metadata": {
        "id": "mXIKbF6aTEU5"
      },
      "id": "mXIKbF6aTEU5",
      "execution_count": 13,
      "outputs": []
    },
    {
      "cell_type": "markdown",
      "source": [
        "### Assignment 11: Combining Loops and Conditionals\n",
        "\n",
        "Write a program that asks the user to input a number and prints all the even numbers from 1 to that number using a for loop."
      ],
      "metadata": {
        "id": "M-KIYykkTLNS"
      },
      "id": "M-KIYykkTLNS"
    },
    {
      "cell_type": "code",
      "source": [
        "Num =int(input(\"Enter Any Number:\"))\n",
        "for num in range(1,Num):\n",
        "  if num %2 == 0:\n",
        "    print(num)"
      ],
      "metadata": {
        "colab": {
          "base_uri": "https://localhost:8080/"
        },
        "id": "hkujm2llTMo1",
        "outputId": "edbe9cb0-1ad0-4bd7-c9d8-b80870004ffd"
      },
      "id": "hkujm2llTMo1",
      "execution_count": 17,
      "outputs": [
        {
          "output_type": "stream",
          "name": "stdout",
          "text": [
            "Enter Any Number:12\n",
            "2\n",
            "4\n",
            "6\n",
            "8\n",
            "10\n"
          ]
        }
      ]
    },
    {
      "cell_type": "markdown",
      "source": [
        "### Assignment 12: Factorial Calculation\n",
        "\n",
        "Write a program that calculates the factorial of a number input by the user using a while loop."
      ],
      "metadata": {
        "id": "_w9-9FP9TRAG"
      },
      "id": "_w9-9FP9TRAG"
    },
    {
      "cell_type": "code",
      "source": [
        "Num = int(input(\"Enter Any Number: \"))\n",
        "factorial = 1\n",
        "while Num > 0:\n",
        "  factorial = factorial * Num\n",
        "  Num = Num -1\n",
        "print(factorial)"
      ],
      "metadata": {
        "colab": {
          "base_uri": "https://localhost:8080/"
        },
        "id": "_CDonM33TSFo",
        "outputId": "caad90f5-d2a1-4ba0-b1f1-bc0e3d371449"
      },
      "id": "_CDonM33TSFo",
      "execution_count": 25,
      "outputs": [
        {
          "output_type": "stream",
          "name": "stdout",
          "text": [
            "Enter Any Number: 5\n",
            "120\n"
          ]
        }
      ]
    },
    {
      "cell_type": "markdown",
      "source": [
        "### Assignment 13: Sum of Digits\n",
        "\n",
        "Write a program that calculates the sum of the digits of a number input by the user using a while loop."
      ],
      "metadata": {
        "id": "x1HBT-hiTYSJ"
      },
      "id": "x1HBT-hiTYSJ"
    },
    {
      "cell_type": "code",
      "source": [
        "num = int(input(\"Enter Any Number: \"))\n",
        "Sum = 0\n",
        "while num > 0:\n",
        "  Rem = num % 10\n",
        "  Sum = Sum + Rem\n",
        "  num = num // 10\n",
        "print(Sum)\n"
      ],
      "metadata": {
        "colab": {
          "base_uri": "https://localhost:8080/"
        },
        "id": "JEYjZTHRTZac",
        "outputId": "6ece90b2-358d-4cf3-dc06-b6637f640a74"
      },
      "id": "JEYjZTHRTZac",
      "execution_count": 27,
      "outputs": [
        {
          "output_type": "stream",
          "name": "stdout",
          "text": [
            "Enter Any Number: 12\n",
            "3\n"
          ]
        }
      ]
    },
    {
      "cell_type": "markdown",
      "source": [
        "### Assignment 14: Prime Number Check\n",
        "\n",
        "Write a program that checks if a number input by the user is a prime number using a for loop.\n"
      ],
      "metadata": {
        "id": "vMF93mvOTc-r"
      },
      "id": "vMF93mvOTc-r"
    },
    {
      "cell_type": "code",
      "source": [
        "number = int(input(\"Enter a Number: \"))\n",
        "\n",
        "if number < 2:\n",
        "    print(\"Not a Prime number.\")\n",
        "else:\n",
        "    for i in range(2, number):\n",
        "        if number % i == 0:\n",
        "            print(\"Not a Prime Number\")\n",
        "            break\n",
        "    else:\n",
        "        print(\"Prime Number\")\n"
      ],
      "metadata": {
        "colab": {
          "base_uri": "https://localhost:8080/"
        },
        "id": "3xtmM82KTdq5",
        "outputId": "c07d4a02-6af0-4e2c-8eed-b90a8539938c"
      },
      "id": "3xtmM82KTdq5",
      "execution_count": 29,
      "outputs": [
        {
          "output_type": "stream",
          "name": "stdout",
          "text": [
            "Enter a Number: 13\n",
            "Prime Number\n"
          ]
        }
      ]
    },
    {
      "cell_type": "markdown",
      "metadata": {
        "id": "ACxk4D0TXiq4"
      },
      "source": [
        "\n",
        "### Assignment 15: Fibonacci Sequence\n",
        "\n",
        "Write a program that prints the first n Fibonacci numbers, where n is input by the user."
      ],
      "id": "ACxk4D0TXiq4"
    },
    {
      "cell_type": "code",
      "execution_count": 30,
      "metadata": {
        "id": "vAUUndrFXiq8",
        "colab": {
          "base_uri": "https://localhost:8080/"
        },
        "outputId": "c1603d4f-01a8-4f2a-cf98-77aaa8215af5"
      },
      "outputs": [
        {
          "output_type": "stream",
          "name": "stdout",
          "text": [
            "Enter a number: 12\n",
            "0 1 1 2 3 5 8 13 21 34 55 89 "
          ]
        }
      ],
      "source": [
        "number = int(input(\"Enter a number: \"))\n",
        "\n",
        "First, Second = 0, 1\n",
        "count = 0\n",
        "\n",
        "while count < number:\n",
        "    print(First, end=\" \")\n",
        "    First, Second = Second, First + Second\n",
        "    count += 1\n"
      ],
      "id": "vAUUndrFXiq8"
    }
  ],
  "metadata": {
    "kernelspec": {
      "display_name": "Python 3",
      "language": "python",
      "name": "python3"
    },
    "language_info": {
      "codemirror_mode": {
        "name": "ipython",
        "version": 3
      },
      "file_extension": ".py",
      "mimetype": "text/x-python",
      "name": "python",
      "nbconvert_exporter": "python",
      "pygments_lexer": "ipython3",
      "version": "3.9.7"
    },
    "colab": {
      "provenance": []
    }
  },
  "nbformat": 4,
  "nbformat_minor": 5
}