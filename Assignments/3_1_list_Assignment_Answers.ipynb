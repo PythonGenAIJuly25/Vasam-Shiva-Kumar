{
  "cells": [
    {
      "cell_type": "markdown",
      "source": [
        "# Module 3: Data Structures Assignments\n",
        "## Lesson 3.1: Lists"
      ],
      "metadata": {
        "id": "UFJqMcSaKJZm"
      },
      "id": "UFJqMcSaKJZm"
    },
    {
      "cell_type": "markdown",
      "source": [
        "### Assignment 1: Creating and Accessing Lists\n",
        "\n",
        "Create a list of the first 20 positive integers. Print the list."
      ],
      "metadata": {
        "id": "G6M4o832KPJz"
      },
      "id": "G6M4o832KPJz"
    },
    {
      "cell_type": "code",
      "source": [
        "positive_integers = list(range(1,21))\n",
        "print(positive_integers)"
      ],
      "metadata": {
        "colab": {
          "base_uri": "https://localhost:8080/"
        },
        "id": "QQBQSlpdKQun",
        "outputId": "b486c254-2f99-47a8-80f4-244cc42bfdd7"
      },
      "id": "QQBQSlpdKQun",
      "execution_count": 1,
      "outputs": [
        {
          "output_type": "stream",
          "name": "stdout",
          "text": [
            "[1, 2, 3, 4, 5, 6, 7, 8, 9, 10, 11, 12, 13, 14, 15, 16, 17, 18, 19, 20]\n"
          ]
        }
      ]
    },
    {
      "cell_type": "markdown",
      "source": [
        "### Assignment 2: Accessing List Elements\n",
        "\n",
        "Print the first, middle, and last elements of the list created in Assignment 1."
      ],
      "metadata": {
        "id": "sSzCXtJ1Kxvp"
      },
      "id": "sSzCXtJ1Kxvp"
    },
    {
      "cell_type": "code",
      "source": [
        "print(positive_integers[0])\n",
        "print(positive_integers[10])\n",
        "print(positive_integers[-1])"
      ],
      "metadata": {
        "colab": {
          "base_uri": "https://localhost:8080/"
        },
        "id": "kpx_i-YZK19f",
        "outputId": "53532c72-fc43-4def-b097-19b5c608737f"
      },
      "id": "kpx_i-YZK19f",
      "execution_count": 3,
      "outputs": [
        {
          "output_type": "stream",
          "name": "stdout",
          "text": [
            "1\n",
            "11\n",
            "20\n"
          ]
        }
      ]
    },
    {
      "cell_type": "markdown",
      "source": [
        "### Assignment 3: List Slicing\n",
        "\n",
        "Print the first five elements, the last five elements, and the elements from index 5 to 15 of the list created in Assignment 1.\n",
        "\n"
      ],
      "metadata": {
        "id": "8aZfdJWSMAEp"
      },
      "id": "8aZfdJWSMAEp"
    },
    {
      "cell_type": "code",
      "source": [
        "print(positive_integers[:5])\n",
        "print(positive_integers[15:])\n",
        "print(positive_integers[5:15])"
      ],
      "metadata": {
        "colab": {
          "base_uri": "https://localhost:8080/"
        },
        "id": "mKWFyU4rMHW0",
        "outputId": "a9c55b1f-e007-477b-b55f-581dbadd4975"
      },
      "id": "mKWFyU4rMHW0",
      "execution_count": 4,
      "outputs": [
        {
          "output_type": "stream",
          "name": "stdout",
          "text": [
            "[1, 2, 3, 4, 5]\n",
            "[16, 17, 18, 19, 20]\n",
            "[6, 7, 8, 9, 10, 11, 12, 13, 14, 15]\n"
          ]
        }
      ]
    },
    {
      "cell_type": "markdown",
      "source": [
        "\n",
        "### Assignment 4: List Comprehensions\n",
        "\n",
        "Create a new list containing the squares of the first 10 positive integers using a list comprehension. Print the new list."
      ],
      "metadata": {
        "id": "Bz4jldMvMYtG"
      },
      "id": "Bz4jldMvMYtG"
    },
    {
      "cell_type": "code",
      "source": [
        "square = [ i*i for i in range(1,11)]\n",
        "print(square)"
      ],
      "metadata": {
        "colab": {
          "base_uri": "https://localhost:8080/"
        },
        "id": "_fEWJ9zPMd9D",
        "outputId": "154474e6-24dc-4000-9e74-7c7618a9549b"
      },
      "id": "_fEWJ9zPMd9D",
      "execution_count": 9,
      "outputs": [
        {
          "output_type": "stream",
          "name": "stdout",
          "text": [
            "[1, 4, 9, 16, 25, 36, 49, 64, 81, 100]\n"
          ]
        }
      ]
    },
    {
      "cell_type": "markdown",
      "source": [
        "### Assignment 5: Filtering Lists\n",
        "\n",
        "Create a new list containing only the even numbers from the list created in Assignment 1 using a list comprehension. Print the new list."
      ],
      "metadata": {
        "id": "Qk-U1dJVNCak"
      },
      "id": "Qk-U1dJVNCak"
    },
    {
      "cell_type": "code",
      "source": [
        "Even = [i for i in positive_integers  if i % 2 == 0 ]\n",
        "print(Even)"
      ],
      "metadata": {
        "colab": {
          "base_uri": "https://localhost:8080/"
        },
        "id": "dtTJ1acJNH1G",
        "outputId": "0329ad67-580b-48e4-a5dd-5201e848d325"
      },
      "id": "dtTJ1acJNH1G",
      "execution_count": 14,
      "outputs": [
        {
          "output_type": "stream",
          "name": "stdout",
          "text": [
            "[2, 4, 6, 8, 10, 12, 14, 16, 18, 20]\n"
          ]
        }
      ]
    },
    {
      "cell_type": "markdown",
      "source": [
        "### Assignment 6: List Methods\n",
        "\n",
        "Create a list of random numbers and sort it in ascending and descending order. Remove the duplicates from the list and print the modified list."
      ],
      "metadata": {
        "id": "Yr8dBrWIOKTJ"
      },
      "id": "Yr8dBrWIOKTJ"
    },
    {
      "cell_type": "code",
      "source": [
        "list1 = [1,4,3,2,56,67,12,12,13,1,2]\n",
        "list1.sort()\n",
        "print(list1)\n",
        "list1.sort(reverse = True)\n",
        "print(list1)\n",
        "c = list(set(list1))\n",
        "print(c)"
      ],
      "metadata": {
        "colab": {
          "base_uri": "https://localhost:8080/"
        },
        "id": "7vKnguQlOOnH",
        "outputId": "f90f6e04-fe95-45da-a1db-4c21b03c170d"
      },
      "id": "7vKnguQlOOnH",
      "execution_count": 16,
      "outputs": [
        {
          "output_type": "stream",
          "name": "stdout",
          "text": [
            "[1, 1, 2, 2, 3, 4, 12, 12, 13, 56, 67]\n",
            "[67, 56, 13, 12, 12, 4, 3, 2, 2, 1, 1]\n",
            "[1, 2, 67, 4, 3, 12, 13, 56]\n"
          ]
        }
      ]
    },
    {
      "cell_type": "markdown",
      "source": [
        "\n",
        "\n",
        "### Assignment 7: Nested Lists\n",
        "\n",
        "Create a nested list representing a 3x3 matrix and print the matrix. Access and print the element at the second row and third column."
      ],
      "metadata": {
        "id": "B9DQmbytPHRb"
      },
      "id": "B9DQmbytPHRb"
    },
    {
      "cell_type": "code",
      "source": [
        "list1 = [[1,2,3],[4,5,6],[6,7,8]]\n",
        "print(list1)\n",
        "print(list1[1][2])"
      ],
      "metadata": {
        "colab": {
          "base_uri": "https://localhost:8080/"
        },
        "id": "Jgn08moYPK_k",
        "outputId": "34a1efe7-75a8-4b9d-904a-d22b94cb47dd"
      },
      "id": "Jgn08moYPK_k",
      "execution_count": 17,
      "outputs": [
        {
          "output_type": "stream",
          "name": "stdout",
          "text": [
            "[[1, 2, 3], [4, 5, 6], [6, 7, 8]]\n",
            "6\n"
          ]
        }
      ]
    },
    {
      "cell_type": "markdown",
      "source": [
        "\n",
        "### Assignment 8: List of Dictionaries\n",
        "\n",
        "Create a list of dictionaries where each dictionary represents a student with keys 'name' and 'score'. Sort the list of dictionaries by the 'score' in descending order and print the sorted list.\n"
      ],
      "metadata": {
        "id": "CiV1p8wnQG-E"
      },
      "id": "CiV1p8wnQG-E"
    },
    {
      "cell_type": "code",
      "source": [
        "score = [{\"name\":\"saiteja\",\"score\":95},{\"name\":\"Shiva kumar\",\"score\":95},{\"name\":\"Hari\",\"score\":75},{\"name\":\"Akshith\",\"score\":80}]\n",
        "result = sorted(score,key=lambda x: x[\"score\"], reverse = True)\n",
        "print(result)"
      ],
      "metadata": {
        "colab": {
          "base_uri": "https://localhost:8080/"
        },
        "id": "6g-h_kWgQKxN",
        "outputId": "4cd7d4d4-c549-4324-e6a2-167ac597a6fc"
      },
      "id": "6g-h_kWgQKxN",
      "execution_count": 18,
      "outputs": [
        {
          "output_type": "stream",
          "name": "stdout",
          "text": [
            "[{'name': 'saiteja', 'score': 95}, {'name': 'Shiva kumar', 'score': 95}, {'name': 'Akshith', 'score': 80}, {'name': 'Hari', 'score': 75}]\n"
          ]
        }
      ]
    },
    {
      "cell_type": "markdown",
      "source": [
        "\n",
        "\n",
        "### Assignment 9: Matrix Transposition\n",
        "\n",
        "Write a function that takes a 3x3 matrix (nested list) as input and returns its transpose. Print the original and transposed matrices."
      ],
      "metadata": {
        "id": "2rXl_NzGSvOT"
      },
      "id": "2rXl_NzGSvOT"
    },
    {
      "cell_type": "code",
      "source": [
        "def matrix(a):\n",
        "  transpose = []\n",
        "  for i in range(3):\n",
        "    row = []\n",
        "    for j in range(3):\n",
        "      row.append(a[j][i])\n",
        "\n",
        "    transpose.append(row)\n",
        "  return transpose\n",
        "\n",
        "\n",
        "l = [[1,2,3],[4,5,6],[6,7,8]]\n",
        "result = matrix(l)\n",
        "\n",
        "\n",
        "print(\"original matrix\")\n",
        "for i in l:\n",
        "  print(i)\n",
        "\n",
        "print(\"transpose matrix\")\n",
        "\n",
        "for j in result:\n",
        "  print(j)"
      ],
      "metadata": {
        "colab": {
          "base_uri": "https://localhost:8080/"
        },
        "id": "8eC6lDukSz3e",
        "outputId": "a57b4fcb-25b5-4f32-b181-3937bd472e9d"
      },
      "id": "8eC6lDukSz3e",
      "execution_count": null,
      "outputs": [
        {
          "output_type": "stream",
          "name": "stdout",
          "text": [
            "original matrix\n",
            "[1, 2, 3]\n",
            "[4, 5, 6]\n",
            "[6, 7, 8]\n",
            "transpose matrix\n",
            "[1, 4, 6]\n",
            "[2, 5, 7]\n",
            "[3, 6, 8]\n"
          ]
        }
      ]
    },
    {
      "cell_type": "markdown",
      "source": [
        "### Assignment 10: Flattening a Nested List\n",
        "\n",
        "Write a function that takes a nested list and flattens it into a single list. Print the original and flattened lists."
      ],
      "metadata": {
        "id": "zwbsHccgqdoh"
      },
      "id": "zwbsHccgqdoh"
    },
    {
      "cell_type": "code",
      "source": [
        "def flatten(a):\n",
        "    flatten = []\n",
        "    for i in a:\n",
        "      for j in i:\n",
        "        flatten.append(j)\n",
        "    return flatten\n",
        "\n",
        "list1 = [[1,2,3],[4,5,6],[6,7,8]]\n",
        "result = flatten(list1)\n",
        "print(\"original matrix\")\n",
        "print(list1)\n",
        "print(\"\\nflatten matrix\")\n",
        "result = flatten(list1)\n",
        "print(result)\n"
      ],
      "metadata": {
        "colab": {
          "base_uri": "https://localhost:8080/"
        },
        "id": "FFXCYpKdqh3b",
        "outputId": "f9e98ed2-b1a1-496d-ad31-f5e5744087d4"
      },
      "id": "FFXCYpKdqh3b",
      "execution_count": 21,
      "outputs": [
        {
          "output_type": "stream",
          "name": "stdout",
          "text": [
            "original matrix\n",
            "[[1, 2, 3], [4, 5, 6], [6, 7, 8]]\n",
            "\n",
            "flatten matrix\n",
            "[1, 2, 3, 4, 5, 6, 6, 7, 8]\n"
          ]
        }
      ]
    },
    {
      "cell_type": "markdown",
      "source": [
        "### Assignment 11: List Manipulation\n",
        "\n",
        "Create a list of the first 10 positive integers. Remove the elements at indices 2, 4, and 6, and insert the element '99' at index 5. Print the modified list."
      ],
      "metadata": {
        "id": "ZuFa2STDuhlv"
      },
      "id": "ZuFa2STDuhlv"
    },
    {
      "cell_type": "code",
      "source": [
        "list1 = list(range(1,11))\n",
        "for i in [2,4,6]:\n",
        "  list1.pop(i)\n",
        "list1.insert(5,99)\n",
        "print(list1)"
      ],
      "metadata": {
        "colab": {
          "base_uri": "https://localhost:8080/"
        },
        "id": "oXxtss6Dumjk",
        "outputId": "a5e9e9c3-5304-4ded-dcc2-1f6ca6c39bcc"
      },
      "id": "oXxtss6Dumjk",
      "execution_count": 22,
      "outputs": [
        {
          "output_type": "stream",
          "name": "stdout",
          "text": [
            "[1, 2, 4, 5, 7, 99, 8, 10]\n"
          ]
        }
      ]
    },
    {
      "cell_type": "markdown",
      "source": [
        "### Assignment 12: List Zipping\n",
        "\n",
        "Create two lists of the same length. Use the `zip` function to combine these lists into a list of tuples and print the result."
      ],
      "metadata": {
        "id": "fKr8FojjyLpP"
      },
      "id": "fKr8FojjyLpP"
    },
    {
      "cell_type": "code",
      "source": [
        "list1 = [1,2,3,4,5,6]\n",
        "list2 = [5,6,7,8,9,10]\n",
        "\n",
        "result = tuple(zip(list1,list2))\n",
        "print(result)"
      ],
      "metadata": {
        "colab": {
          "base_uri": "https://localhost:8080/"
        },
        "id": "dnQXGyCsyP38",
        "outputId": "7f697647-06f2-43bd-d258-6aa9b688a49f"
      },
      "id": "dnQXGyCsyP38",
      "execution_count": 24,
      "outputs": [
        {
          "output_type": "stream",
          "name": "stdout",
          "text": [
            "((1, 5), (2, 6), (3, 7), (4, 8), (5, 9), (6, 10))\n"
          ]
        }
      ]
    },
    {
      "cell_type": "markdown",
      "source": [
        "### Assignment 13: List Reversal\n",
        "\n",
        "Write a function that takes a list and returns a new list with the elements in reverse order. Print the original and reversed lists."
      ],
      "metadata": {
        "id": "bcoud7sgyjTn"
      },
      "id": "bcoud7sgyjTn"
    },
    {
      "cell_type": "code",
      "source": [
        "def reversed_list(list1):\n",
        "  list1 = list1.copy()\n",
        "  list1.reverse()\n",
        "  return list1\n",
        "\n",
        "list1 = [6,7,8,9,10]\n",
        "result = reverse_list(list1)\n",
        "print(\"original list\")\n",
        "print(list1)\n",
        "print(\"\\nreversed list\")\n",
        "print(result)\n"
      ],
      "metadata": {
        "colab": {
          "base_uri": "https://localhost:8080/"
        },
        "id": "BPcsHguGyqQu",
        "outputId": "ae9f3cd5-5890-4f4c-89ab-6e927f0144ef"
      },
      "id": "BPcsHguGyqQu",
      "execution_count": 30,
      "outputs": [
        {
          "output_type": "stream",
          "name": "stdout",
          "text": [
            "original list\n",
            "[6, 7, 8, 9, 10]\n",
            "\n",
            "reversed list\n",
            "[10, 9, 8, 7, 6]\n"
          ]
        }
      ]
    },
    {
      "cell_type": "markdown",
      "source": [
        "\n",
        "### Assignment 14: List Rotation\n",
        "\n",
        "Write a function that rotates a list by n positions. Print the original and rotated lists."
      ],
      "metadata": {
        "id": "i5VFgZ5v1Jt5"
      },
      "id": "i5VFgZ5v1Jt5"
    },
    {
      "cell_type": "code",
      "source": [
        "def rotate(lst,n):\n",
        "  return lst[n:] + lst[:n]\n",
        "\n",
        "original = [1,2,3,4,5]\n",
        "print(\"oginal list\")\n",
        "print(original)\n",
        "result = rotate(original,2)\n",
        "print(\"\\nrotated list\")\n",
        "print(result)"
      ],
      "metadata": {
        "colab": {
          "base_uri": "https://localhost:8080/"
        },
        "id": "TD6IdrjQ1JYs",
        "outputId": "d19dc9dc-4fc1-4646-b723-b4fc93e45971"
      },
      "id": "TD6IdrjQ1JYs",
      "execution_count": 31,
      "outputs": [
        {
          "output_type": "stream",
          "name": "stdout",
          "text": [
            "oginal list\n",
            "[1, 2, 3, 4, 5]\n",
            "\n",
            "rotated list\n",
            "[3, 4, 5, 1, 2]\n"
          ]
        }
      ]
    },
    {
      "cell_type": "markdown",
      "metadata": {
        "id": "Yw9admqnKDgX"
      },
      "source": [
        "\n",
        "\n",
        "\n",
        "\n",
        "\n",
        "\n",
        "\n",
        "\n",
        "\n",
        "\n",
        "\n",
        "\n",
        "\n",
        "\n",
        "\n",
        "\n",
        "\n",
        "\n",
        "\n",
        "### Assignment 15: List Intersection\n",
        "\n",
        "Write a function that takes two lists and returns a new list containing only the elements that are present in both lists. Print the intersected list."
      ],
      "id": "Yw9admqnKDgX"
    },
    {
      "cell_type": "code",
      "execution_count": 35,
      "metadata": {
        "colab": {
          "base_uri": "https://localhost:8080/"
        },
        "id": "4-sviPBVKDga",
        "outputId": "c067405a-74b9-49ae-b693-1f6b639f2737"
      },
      "outputs": [
        {
          "output_type": "stream",
          "name": "stdout",
          "text": [
            "[1, 2]\n"
          ]
        }
      ],
      "source": [
        "def concate(list1, list2):\n",
        "    a = set(list1)\n",
        "    b = set(list2)\n",
        "    result = a.intersection(b)\n",
        "    return list(result)\n",
        "\n",
        "c = [1, 2, 3, 1, 2]\n",
        "d = [1, 2, 4, 5, 6]\n",
        "result = concate(c, d)\n",
        "print(result)\n"
      ],
      "id": "4-sviPBVKDga"
    },
    {
      "cell_type": "code",
      "source": [],
      "metadata": {
        "id": "XUyqYRlGKKgc"
      },
      "id": "XUyqYRlGKKgc",
      "execution_count": null,
      "outputs": []
    }
  ],
  "metadata": {
    "kernelspec": {
      "display_name": "Python 3",
      "language": "python",
      "name": "python3"
    },
    "language_info": {
      "codemirror_mode": {
        "name": "ipython",
        "version": 3
      },
      "file_extension": ".py",
      "mimetype": "text/x-python",
      "name": "python",
      "nbconvert_exporter": "python",
      "pygments_lexer": "ipython3",
      "version": "3.9.7"
    },
    "colab": {
      "provenance": []
    }
  },
  "nbformat": 4,
  "nbformat_minor": 5
}