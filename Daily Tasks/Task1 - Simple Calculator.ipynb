{
  "cells": [
    {
      "cell_type": "markdown",
      "metadata": {
        "id": "MqGQtFHsMgmM"
      },
      "source": [
        "**`Task 1`**\n",
        "\n",
        "# Build the simple Calculator"
      ]
    },
    {
      "cell_type": "code",
      "execution_count": null,
      "metadata": {
        "colab": {
          "base_uri": "https://localhost:8080/"
        },
        "id": "CEPhVa6LMn45",
        "outputId": "279c8de3-9a6b-484c-a0a0-3bb1d08854d2"
      },
      "outputs": [
        {
          "name": "stdout",
          "output_type": "stream",
          "text": [
            "Enter the number1: 55\n",
            "Enter the number2: 13\n",
            "Choose an Operator (+, -, *, /, %): /\n",
            "Division of 55 by 13 is: 4.230769230769231\n"
          ]
        }
      ],
      "source": [
        "num1 = int(input(\"Enter the number1: \"))\n",
        "num2 = int(input(\"Enter the number2: \"))\n",
        "\n",
        "operator = input(\"Choose an Operation (+, -, *, /, %): \")\n",
        "\n",
        "if operator == '+':\n",
        "    print(f'Sum of {num1} and {num2} is: {num1 + num2}')\n",
        "elif operator == '-':\n",
        "    print(f'Subtraction of {num1} and {num2} is: {num1 - num2}')\n",
        "elif operator == '*':\n",
        "    print(f'Product of {num1} and {num2} is: {num1 * num2}')\n",
        "elif operator == '/':\n",
        "    if num2 != 0:\n",
        "        print(f'Division of {num1} by {num2} is: {num1 / num2}')\n",
        "    else:\n",
        "        print(\"Error: Division by zero is not allowed.\")\n",
        "elif operator == '%':\n",
        "    if num2 != 0:\n",
        "        print(f'Modulus of {num1} and {num2} is: {num1 % num2}')\n",
        "    else:\n",
        "        print(\"Error: Division by zero is not allowed.\")\n",
        "else:\n",
        "    print(\"Invalid operator\")"
      ]
    }
  ],
  "metadata": {
    "colab": {
      "provenance": []
    },
    "kernelspec": {
      "display_name": "Python 3",
      "name": "python3"
    },
    "language_info": {
      "name": "python"
    }
  },
  "nbformat": 4,
  "nbformat_minor": 0
}
