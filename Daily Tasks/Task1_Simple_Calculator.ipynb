{
  "cells": [
    {
      "cell_type": "markdown",
      "metadata": {
        "id": "MqGQtFHsMgmM"
      },
      "source": [
        "**`Task 1`**\n",
        "\n",
        "# Build the simple Calculator"
      ]
    },
    {
      "cell_type": "code",
      "execution_count": 1,
      "metadata": {
        "colab": {
          "base_uri": "https://localhost:8080/"
        },
        "id": "CEPhVa6LMn45",
        "outputId": "d7bfdc75-aadf-4637-d687-296494fb2481"
      },
      "outputs": [
        {
          "output_type": "stream",
          "name": "stdout",
          "text": [
            "Enter the number1: 10\n",
            "Enter the number2: 5\n",
            "Choose an Operation (+, -, *, /, %): +\n",
            "Sum of 10 and 5 is: 15\n"
          ]
        }
      ],
      "source": [
        "num1 = int(input(\"Enter the number1: \"))\n",
        "num2 = int(input(\"Enter the number2: \"))\n",
        "\n",
        "operator = input(\"Choose an Operation (+, -, *, /, %): \")\n",
        "\n",
        "if operator == '+':\n",
        "    print(f'Sum of {num1} and {num2} is: {num1 + num2}')\n",
        "elif operator == '-':\n",
        "    print(f'Subtraction of {num1} and {num2} is: {num1 - num2}')\n",
        "elif operator == '*':\n",
        "    print(f'Multiplication of {num1} and {num2} is: {num1 * num2}')\n",
        "elif operator == '/':\n",
        "    if num2 != 0:\n",
        "        print(f'Division of {num1} by {num2} is: {num1 / num2}')\n",
        "    else:\n",
        "        print(\"Error: Division by zero is not allowed.\")\n",
        "elif operator == '%':\n",
        "    if num2 != 0:\n",
        "        print(f'Modulus of {num1} and {num2} is: {num1 % num2}')\n",
        "    else:\n",
        "        print(\"Error: Division by zero is not allowed.\")\n",
        "else:\n",
        "    print(\"Invalid operator\")"
      ]
    }
  ],
  "metadata": {
    "colab": {
      "provenance": []
    },
    "kernelspec": {
      "display_name": "Python 3",
      "name": "python3"
    },
    "language_info": {
      "name": "python"
    }
  },
  "nbformat": 4,
  "nbformat_minor": 0
}